{
  "nbformat": 4,
  "nbformat_minor": 0,
  "metadata": {
    "colab": {
      "name": "cloudsim_postprocess.ipynb",
      "provenance": [],
      "collapsed_sections": []
    },
    "kernelspec": {
      "display_name": "Python 3",
      "name": "python3"
    },
    "language_info": {
      "name": "python"
    }
  },
  "cells": [
    {
      "cell_type": "markdown",
      "metadata": {
        "id": "VjeME6MOL3ej"
      },
      "source": [
        "Post processing from cloudsim logs:"
      ]
    },
    {
      "cell_type": "code",
      "metadata": {
        "id": "Issz5Vc9fzaq",
        "colab": {
          "base_uri": "https://localhost:8080/"
        },
        "outputId": "461e2b55-4b49-4132-9ea8-ad41bc0c69f7"
      },
      "source": [
        "from google.colab import drive\n",
        "drive.mount('/content/drive')"
      ],
      "execution_count": null,
      "outputs": [
        {
          "output_type": "stream",
          "text": [
            "Drive already mounted at /content/drive; to attempt to forcibly remount, call drive.mount(\"/content/drive\", force_remount=True).\n"
          ],
          "name": "stdout"
        }
      ]
    },
    {
      "cell_type": "code",
      "metadata": {
        "id": "JxTEu_PaE7Kt",
        "colab": {
          "base_uri": "https://localhost:8080/"
        },
        "outputId": "316ab9f6-2dc7-47e5-a927-e49300cf5e55"
      },
      "source": [
        "# measuring execution time\n",
        "!pip install ipython-autotime\n",
        "%load_ext autotime"
      ],
      "execution_count": null,
      "outputs": [
        {
          "output_type": "stream",
          "text": [
            "Requirement already satisfied: ipython-autotime in /usr/local/lib/python3.7/dist-packages (0.3.1)\n",
            "Requirement already satisfied: ipython in /usr/local/lib/python3.7/dist-packages (from ipython-autotime) (5.5.0)\n",
            "Requirement already satisfied: setuptools>=18.5 in /usr/local/lib/python3.7/dist-packages (from ipython->ipython-autotime) (57.4.0)\n",
            "Requirement already satisfied: pickleshare in /usr/local/lib/python3.7/dist-packages (from ipython->ipython-autotime) (0.7.5)\n",
            "Requirement already satisfied: prompt-toolkit<2.0.0,>=1.0.4 in /usr/local/lib/python3.7/dist-packages (from ipython->ipython-autotime) (1.0.18)\n",
            "Requirement already satisfied: decorator in /usr/local/lib/python3.7/dist-packages (from ipython->ipython-autotime) (4.4.2)\n",
            "Requirement already satisfied: simplegeneric>0.8 in /usr/local/lib/python3.7/dist-packages (from ipython->ipython-autotime) (0.8.1)\n",
            "Requirement already satisfied: traitlets>=4.2 in /usr/local/lib/python3.7/dist-packages (from ipython->ipython-autotime) (5.0.5)\n",
            "Requirement already satisfied: pygments in /usr/local/lib/python3.7/dist-packages (from ipython->ipython-autotime) (2.6.1)\n",
            "Requirement already satisfied: pexpect in /usr/local/lib/python3.7/dist-packages (from ipython->ipython-autotime) (4.8.0)\n",
            "Requirement already satisfied: wcwidth in /usr/local/lib/python3.7/dist-packages (from prompt-toolkit<2.0.0,>=1.0.4->ipython->ipython-autotime) (0.2.5)\n",
            "Requirement already satisfied: six>=1.9.0 in /usr/local/lib/python3.7/dist-packages (from prompt-toolkit<2.0.0,>=1.0.4->ipython->ipython-autotime) (1.15.0)\n",
            "Requirement already satisfied: ipython-genutils in /usr/local/lib/python3.7/dist-packages (from traitlets>=4.2->ipython->ipython-autotime) (0.2.0)\n",
            "Requirement already satisfied: ptyprocess>=0.5 in /usr/local/lib/python3.7/dist-packages (from pexpect->ipython->ipython-autotime) (0.7.0)\n",
            "time: 206 µs (started: 2021-08-19 06:34:40 +00:00)\n"
          ],
          "name": "stdout"
        }
      ]
    },
    {
      "cell_type": "markdown",
      "metadata": {
        "id": "MlUeNmELEo9Z"
      },
      "source": [
        "Definition  post_pro() function"
      ]
    },
    {
      "cell_type": "code",
      "metadata": {
        "id": "3aXeYW2CEx4i",
        "colab": {
          "base_uri": "https://localhost:8080/"
        },
        "outputId": "38bb454b-eb61-4ce4-b8f9-745457fc3deb"
      },
      "source": [
        "def post_pro(scenario, vehicles, VMs, path):\n",
        "\n",
        "    # parameters\n",
        "    # 1 = $scenario - input scenario format : \"A B C D\" (A=#MEChosts, B=hostType, C=OptGoal-allocations, D=OptGoal-migrations) i.e. \"45 1 sc sc-mad\", \n",
        "    # 2 = $vehicles - input number of vehicles \n",
        "    # 3 = $VMs      - input number of VMs (if omnet simulation time is reduced from SUMO's, this value is different from $vehicles) \n",
        "    # 4 = $path     - input files path\n",
        "\n",
        "    # two output files: resAllocHops.txt resMigHops.txt\n",
        "\n",
        "    # add only the lines that start with a number\n",
        "    (noHosts, hostType, ap, mp)  = scenario.split()\n",
        "    print(noHosts, hostType, ap, mp) \n",
        "    # fogSUMOCloudSim_Log__117_1_sc_sc-mad_2509_initialPositioning-6900.txt_migrations-6900.txt\n",
        "    fileName = path + \"fogSUMOCloudSim_Log__\" + noHosts + \"_\" + hostType + \"_\" + ap + \"_\" + mp + \"_\" + VMs + \"_initialPositioning-\" + vehicles + \".txt_migrations-\" + vehicles + \".txt.txt\"\n",
        "    path = path + \"post_pro/\"\n",
        "    optMigrFileTimes  = path + \"res_migr_OPT_TIMES_\"  + noHosts + \"_\" + hostType + \"_\" + ap + \"_\" + mp + \"_\" + VMs + \"_\" + vehicles + \".txt\"\n",
        "    reatFAILMigrFile = path + \"res_reattempt_FAIL_migr_\"  + noHosts + \"_\" + hostType + \"_\" + ap + \"_\" + mp + \"_\" + VMs + \"_\" + vehicles + \".txt\"\n",
        "    reatOKMigrFile  = path + \"res_reattempt_OK_migr_\"  + noHosts + \"_\" + hostType + \"_\" + ap + \"_\" + mp + \"_\" + VMs + \"_\" + vehicles + \".txt\"\n",
        "    FailMigrFileDetail = path + \"res_fail_migr_detail_\"  + noHosts + \"_\" + hostType + \"_\" + ap + \"_\" + mp + \"_\" + VMs + \"_\" + vehicles + \".txt\"\n",
        "    allocOPTFileTimes = path + \"res_alloc_OPT_TIMES_\"  + noHosts + \"_\" + hostType + \"_\" + ap + \"_\" + mp + \"_\" + VMs + \"_\" + vehicles + \".txt\"\n",
        "    FailAllocFileDetail =  path + \"res_fail_alloc_detail_\" + noHosts + \"_\" + hostType + \"_\" + ap + \"_\" + mp + \"_\" + VMs + \"_\" + vehicles + \".txt\"\n",
        "    resDCenergy =  path + \"res_DCenergy_\"  + noHosts + \"_\" + hostType + \"_\" + ap + \"_\" + mp + \"_\" + VMs + \"_\" + vehicles + \".txt\"\n",
        "\n",
        "    print(fileName)\n",
        "    \n",
        "    # ENERGY: get energy data\n",
        "    !grep \"Data center's energy\" $fileName > temp\n",
        "    !echo \"Time;W*sec\" > $resDCenergy\n",
        "    !awk '{ print $1, $6 }' temp >> temp2\n",
        "    !cat temp2 >> $resDCenergy\n",
        "    !rm temp temp2\n",
        "\t\t\n",
        "    # ALLOCATIONS ANALYSIS: output files: resFileAllocHops.txt $allocOPTFileTimes\n",
        "    # get initial allocations\n",
        "    !grep \"Initial placement\" $fileName > res_alloc.txt    \n",
        "    !echo \"$noHosts;$hostType;$ap;$mp;$VMs;$vehicles\" | tr -s '\\r\\n' ';' > resFileAllocHops.txt\t\n",
        "    # get the number of lines with optimal allocation\n",
        "    !grep -o 'optimal=true' res_alloc.txt | wc -l | tr -s '\\r\\n' ';' >> resFileAllocHops.txt\t\n",
        "    # get the number of lines with non optimal allocations\n",
        "    !grep -o 'optimal=false' res_alloc.txt | wc -l | tr -s '\\r\\n' ';' >> resFileAllocHops.txt\t\n",
        "    !echo \"\"  >> resFileAllocHops.txt\t\t\t\t\t# new line\t\n",
        "    # check optimal allocations: time, car and community\n",
        "    !echo \"Time Vm Comm\" > $allocOPTFileTimes\n",
        "    !grep 'optimal=true' res_alloc.txt\t > temp\n",
        "    !awk '{print $1, $6, $16}'  temp >  temp2\n",
        "    !sed 's/\\#//g' temp2 >> $allocOPTFileTimes  \n",
        "    # check failed allocations\n",
        "    !echo \"Time Vm Vm_resources Source_Comm Host Dest_Comm Dest_Comm_decision\" > $FailAllocFileDetail\n",
        "    !grep 'optimal=false' res_alloc.txt > temp\n",
        "    !awk '{print $1, $6, $7, $10, $13, $16, $17}' temp >  temp2\n",
        "    !sed 's/\\#//g' temp2 >> $FailAllocFileDetail\n",
        "    !rm temp temp2 res_alloc.txt \n",
        "\n",
        "    # MIGRATIONS ANALYSIS: output files: resFileMigHops.txt $FailMigrFileDetail $optMigrFileTimes\n",
        "    # check reattempted migrations\n",
        "    !echo \"Time Vm \" > $reatOKMigrFile\n",
        "    !grep \"reattempt migration: VM *\" $fileName > temp\n",
        "    !awk '{printf (\"%.2f %s\\n\",$1,$5)}' temp > temp2\n",
        "    !sed 's/\\#//g' temp2 >>  $reatOKMigrFile\n",
        "    # check optimal migrations\n",
        "    !grep -e \"Optimal migration\" $fileName > res_opt_migr_opt.txt\n",
        "    !grep -e \"identical\" $fileName > res_opt_migr_ident.txt\n",
        "    !echo \"$noHosts;$hostType;$ap;$mp;$VMs;$vehicles\" | tr -s '\\r\\n' ';'  > resFileMigHops.txt\n",
        "    # check migrations failed\n",
        "    !echo \"Time Vm \" > $reatFAILMigrFile\n",
        "    !grep \" reattempt migration failed\" $fileName > temp \n",
        "    !awk '{printf (\"%.2f %s\\n\",$1,$6)}' temp | sort -g | uniq > temp2\n",
        "    !sed 's/\\#//g' temp2  >> $reatFAILMigrFile\n",
        "    # get the times of optimal migrations\n",
        "    !echo \"Time Vm Source_Comm Host Dest_Comm \" > $optMigrFileTimes\n",
        "    !awk '{print $1, $6, $9, $12, $15}' res_opt_migr_opt.txt > temp2\n",
        "    !awk '{print $1, $8, $13, $10, $13}' res_opt_migr_ident.txt >> temp2\n",
        "    !sed 's/\\#//g' temp2  >> $optMigrFileTimes\n",
        "    # get the number of optimal migrations\n",
        "    !wc -l temp2 > temp\n",
        "    !awk '{print $1}' temp | tr -s '\\r\\n' ';' >> resFileMigHops.txt \t\n",
        "    # Non optimal migrations\n",
        "    !echo \"Time Vm Source_Comm Dest_Comm\" > $FailMigrFileDetail\n",
        "    !grep  \"Attempt to migrate failed\" $fileName > temp\n",
        "    # round attempt times to 2 decimals and remove duplicates\n",
        "    !awk '{printf (\"%.2f %s %s %s\\n\",$1,$7,$10,$13)}' temp | sort -g | uniq > temp2 #| uniq -u\n",
        "    !sed 's/\\#//g' temp2 >> $FailMigrFileDetail\n",
        "    # get the number of non optimal migrations\n",
        "    !wc -l $FailMigrFileDetail > temp\n",
        "    !awk '{print $1}' temp | tr -s '\\r\\n' ';' >> resFileMigHops.txt \t\n",
        "    # get the number of succesful migration reattempts\n",
        "    !wc -l $reatOKMigrFile > temp\t\n",
        "    !awk '{print $1}' temp | tr -s '\\r\\n' ';' >> resFileMigHops.txt  \n",
        "    # get the number of unsuccesful migration reattempts    \n",
        "    !wc -l $reatFAILMigrFile  > temp\t\n",
        "    !awk '{print $1}' temp | tr -s '\\r\\n' ';' >> resFileMigHops.txt  \t    \n",
        "    !echo \"\" >> resFileMigHops.txt  \t\t    # new line\t  \n",
        "    !rm res_opt_migr_opt.txt res_opt_migr_ident.txt temp temp2\n"
      ],
      "execution_count": null,
      "outputs": [
        {
          "output_type": "stream",
          "text": [
            "time: 110 ms (started: 2021-08-19 06:34:43 +00:00)\n"
          ],
          "name": "stdout"
        }
      ]
    },
    {
      "cell_type": "code",
      "metadata": {
        "id": "VnAPyztlOSTs",
        "colab": {
          "base_uri": "https://localhost:8080/",
          "height": 277
        },
        "outputId": "f32b7b64-3d1f-444c-e600-85e9f70da643"
      },
      "source": [
        "!rm *\n",
        "post_pro(\"45 1 sc sc-mad\",\"8630\",\"3185\",\"/content/drive/MyDrive/processed_logs/cloudsim_output/log/\")\n",
        "!pwd\n",
        "\n",
        "\n",
        "#import os\n",
        "#print(not os.path.exists(\"table.txt\"))\n",
        "#fogSUMOCloudSim_Log__45_1_sc_sc-mad_2509_initialPositioning-6900.txt_migrations-6900.txt.txt"
      ],
      "execution_count": null,
      "outputs": [
        {
          "output_type": "stream",
          "text": [
            "rm: cannot remove 'drive': Is a directory\n",
            "rm: cannot remove 'sample_data': Is a directory\n"
          ],
          "name": "stdout"
        },
        {
          "output_type": "error",
          "ename": "NameError",
          "evalue": "ignored",
          "traceback": [
            "\u001b[0;31m---------------------------------------------------------------------------\u001b[0m",
            "\u001b[0;31mNameError\u001b[0m                                 Traceback (most recent call last)",
            "\u001b[0;32m<ipython-input-1-c9c30f62f69c>\u001b[0m in \u001b[0;36m<module>\u001b[0;34m()\u001b[0m\n\u001b[1;32m      1\u001b[0m \u001b[0mget_ipython\u001b[0m\u001b[0;34m(\u001b[0m\u001b[0;34m)\u001b[0m\u001b[0;34m.\u001b[0m\u001b[0msystem\u001b[0m\u001b[0;34m(\u001b[0m\u001b[0;34m'rm *'\u001b[0m\u001b[0;34m)\u001b[0m\u001b[0;34m\u001b[0m\u001b[0;34m\u001b[0m\u001b[0m\n\u001b[0;32m----> 2\u001b[0;31m \u001b[0mpost_pro\u001b[0m\u001b[0;34m(\u001b[0m\u001b[0;34m\"45 1 sc sc-mad\"\u001b[0m\u001b[0;34m,\u001b[0m\u001b[0;34m\"8630\"\u001b[0m\u001b[0;34m,\u001b[0m\u001b[0;34m\"3185\"\u001b[0m\u001b[0;34m,\u001b[0m\u001b[0;34m\"/content/drive/MyDrive/processed_logs/cloudsim_output/log/\"\u001b[0m\u001b[0;34m)\u001b[0m\u001b[0;34m\u001b[0m\u001b[0;34m\u001b[0m\u001b[0m\n\u001b[0m\u001b[1;32m      3\u001b[0m \u001b[0mget_ipython\u001b[0m\u001b[0;34m(\u001b[0m\u001b[0;34m)\u001b[0m\u001b[0;34m.\u001b[0m\u001b[0msystem\u001b[0m\u001b[0;34m(\u001b[0m\u001b[0;34m'pwd'\u001b[0m\u001b[0;34m)\u001b[0m\u001b[0;34m\u001b[0m\u001b[0;34m\u001b[0m\u001b[0m\n\u001b[1;32m      4\u001b[0m \u001b[0;34m\u001b[0m\u001b[0m\n\u001b[1;32m      5\u001b[0m \u001b[0;34m\u001b[0m\u001b[0m\n",
            "\u001b[0;31mNameError\u001b[0m: name 'post_pro' is not defined"
          ]
        }
      ]
    },
    {
      "cell_type": "markdown",
      "metadata": {
        "id": "88MOOq3dL34y"
      },
      "source": [
        "Input data : scenarios + vehicles"
      ]
    },
    {
      "cell_type": "code",
      "metadata": {
        "colab": {
          "base_uri": "https://localhost:8080/"
        },
        "id": "1sjThymQIgBi",
        "outputId": "df48818b-c828-4ff0-a402-64ee7a9cc237"
      },
      "source": [
        "# define vehicles and scenarios\n",
        "scenarios = [\"45 1 sc sc-mad\",\"63 1 sc sc-mad\",\"81 1 sc sc-mad\",\"99 1 sc sc-mad\",\"117 1 sc sc-mad\",\n",
        "             \"45 0 sc sc-mad\",\"63 0 sc sc-mad\",\"81 0 sc sc-mad\",\"99 0 sc sc-mad\",\"117 0 sc sc-mad\"]\n",
        "vehicles = ['4956','4951','4955','5740','5734','5749','6910','6915','6923','8600','8620','8635']\n",
        "VMs =      ['4256','5074','5013','4966','5808','5858','6042','6187','7004','7455','7463','7486']\n",
        "\n",
        "duration=\"10000\"\n",
        "!rm *.csv\n",
        "#aBorrar2=\"res_*.txt\"\n",
        "\n",
        "path = \"/content/drive/MyDrive/processed_logs/cloudsim_output/log_10000s/\"\n",
        "\n",
        "resFileAllocHops = path + \"post_pro/\" + \"total_resAllocHops.csv\"\n",
        "resFileMigHops = path + \"post_pro/\" + \"total_resMigHops.csv\"\n",
        "\n",
        "!echo \"Hosts;Type;Ap;Mp;noVMs;noCars;Optimal;Non_optimal;Reatt_OK;Reatt_FAILED\" > $resFileMigHops\n",
        "!echo \"Hosts;Type;Ap;Mp;noVMs;noCars;Optimal;Non_optimal\" > $resFileAllocHops\n",
        "\n",
        "\n",
        "for scen in scenarios:\n",
        "  i = 0\n",
        "  for vehi in vehicles:\n",
        "    !rm *.txt\n",
        "    post_pro(scen,vehi,VMs[i],path)\n",
        "    i = i+1\n",
        "    # update hops\n",
        "    !cat resFileAllocHops.txt >> $resFileAllocHops\n",
        "    !cat resFileMigHops.txt >> $resFileMigHops  \n"
      ],
      "execution_count": null,
      "outputs": [
        {
          "output_type": "stream",
          "text": [
            "rm: cannot remove '*.csv': No such file or directory\n",
            "rm: cannot remove '*.txt': No such file or directory\n",
            "45 1 sc sc-mad\n",
            "/content/drive/MyDrive/processed_logs/cloudsim_output/log_10000s/fogSUMOCloudSim_Log__45_1_sc_sc-mad_4256_initialPositioning-4956.txt_migrations-4956.txt.txt\n",
            "45 1 sc sc-mad\n",
            "/content/drive/MyDrive/processed_logs/cloudsim_output/log_10000s/fogSUMOCloudSim_Log__45_1_sc_sc-mad_5074_initialPositioning-4951.txt_migrations-4951.txt.txt\n",
            "45 1 sc sc-mad\n",
            "/content/drive/MyDrive/processed_logs/cloudsim_output/log_10000s/fogSUMOCloudSim_Log__45_1_sc_sc-mad_5013_initialPositioning-4955.txt_migrations-4955.txt.txt\n",
            "45 1 sc sc-mad\n",
            "/content/drive/MyDrive/processed_logs/cloudsim_output/log_10000s/fogSUMOCloudSim_Log__45_1_sc_sc-mad_4966_initialPositioning-5740.txt_migrations-5740.txt.txt\n",
            "45 1 sc sc-mad\n",
            "/content/drive/MyDrive/processed_logs/cloudsim_output/log_10000s/fogSUMOCloudSim_Log__45_1_sc_sc-mad_5808_initialPositioning-5734.txt_migrations-5734.txt.txt\n",
            "45 1 sc sc-mad\n",
            "/content/drive/MyDrive/processed_logs/cloudsim_output/log_10000s/fogSUMOCloudSim_Log__45_1_sc_sc-mad_5858_initialPositioning-5749.txt_migrations-5749.txt.txt\n",
            "45 1 sc sc-mad\n",
            "/content/drive/MyDrive/processed_logs/cloudsim_output/log_10000s/fogSUMOCloudSim_Log__45_1_sc_sc-mad_6042_initialPositioning-6910.txt_migrations-6910.txt.txt\n",
            "45 1 sc sc-mad\n",
            "/content/drive/MyDrive/processed_logs/cloudsim_output/log_10000s/fogSUMOCloudSim_Log__45_1_sc_sc-mad_6187_initialPositioning-6915.txt_migrations-6915.txt.txt\n",
            "45 1 sc sc-mad\n",
            "/content/drive/MyDrive/processed_logs/cloudsim_output/log_10000s/fogSUMOCloudSim_Log__45_1_sc_sc-mad_7004_initialPositioning-6923.txt_migrations-6923.txt.txt\n",
            "45 1 sc sc-mad\n",
            "/content/drive/MyDrive/processed_logs/cloudsim_output/log_10000s/fogSUMOCloudSim_Log__45_1_sc_sc-mad_7455_initialPositioning-8600.txt_migrations-8600.txt.txt\n",
            "45 1 sc sc-mad\n",
            "/content/drive/MyDrive/processed_logs/cloudsim_output/log_10000s/fogSUMOCloudSim_Log__45_1_sc_sc-mad_7463_initialPositioning-8620.txt_migrations-8620.txt.txt\n",
            "45 1 sc sc-mad\n",
            "/content/drive/MyDrive/processed_logs/cloudsim_output/log_10000s/fogSUMOCloudSim_Log__45_1_sc_sc-mad_7486_initialPositioning-8635.txt_migrations-8635.txt.txt\n",
            "63 1 sc sc-mad\n",
            "/content/drive/MyDrive/processed_logs/cloudsim_output/log_10000s/fogSUMOCloudSim_Log__63_1_sc_sc-mad_4256_initialPositioning-4956.txt_migrations-4956.txt.txt\n",
            "63 1 sc sc-mad\n",
            "/content/drive/MyDrive/processed_logs/cloudsim_output/log_10000s/fogSUMOCloudSim_Log__63_1_sc_sc-mad_5074_initialPositioning-4951.txt_migrations-4951.txt.txt\n",
            "63 1 sc sc-mad\n",
            "/content/drive/MyDrive/processed_logs/cloudsim_output/log_10000s/fogSUMOCloudSim_Log__63_1_sc_sc-mad_5013_initialPositioning-4955.txt_migrations-4955.txt.txt\n",
            "63 1 sc sc-mad\n",
            "/content/drive/MyDrive/processed_logs/cloudsim_output/log_10000s/fogSUMOCloudSim_Log__63_1_sc_sc-mad_4966_initialPositioning-5740.txt_migrations-5740.txt.txt\n",
            "63 1 sc sc-mad\n",
            "/content/drive/MyDrive/processed_logs/cloudsim_output/log_10000s/fogSUMOCloudSim_Log__63_1_sc_sc-mad_5808_initialPositioning-5734.txt_migrations-5734.txt.txt\n",
            "63 1 sc sc-mad\n",
            "/content/drive/MyDrive/processed_logs/cloudsim_output/log_10000s/fogSUMOCloudSim_Log__63_1_sc_sc-mad_5858_initialPositioning-5749.txt_migrations-5749.txt.txt\n",
            "63 1 sc sc-mad\n",
            "/content/drive/MyDrive/processed_logs/cloudsim_output/log_10000s/fogSUMOCloudSim_Log__63_1_sc_sc-mad_6042_initialPositioning-6910.txt_migrations-6910.txt.txt\n",
            "63 1 sc sc-mad\n",
            "/content/drive/MyDrive/processed_logs/cloudsim_output/log_10000s/fogSUMOCloudSim_Log__63_1_sc_sc-mad_6187_initialPositioning-6915.txt_migrations-6915.txt.txt\n",
            "63 1 sc sc-mad\n",
            "/content/drive/MyDrive/processed_logs/cloudsim_output/log_10000s/fogSUMOCloudSim_Log__63_1_sc_sc-mad_7004_initialPositioning-6923.txt_migrations-6923.txt.txt\n",
            "63 1 sc sc-mad\n",
            "/content/drive/MyDrive/processed_logs/cloudsim_output/log_10000s/fogSUMOCloudSim_Log__63_1_sc_sc-mad_7455_initialPositioning-8600.txt_migrations-8600.txt.txt\n",
            "63 1 sc sc-mad\n",
            "/content/drive/MyDrive/processed_logs/cloudsim_output/log_10000s/fogSUMOCloudSim_Log__63_1_sc_sc-mad_7463_initialPositioning-8620.txt_migrations-8620.txt.txt\n",
            "63 1 sc sc-mad\n",
            "/content/drive/MyDrive/processed_logs/cloudsim_output/log_10000s/fogSUMOCloudSim_Log__63_1_sc_sc-mad_7486_initialPositioning-8635.txt_migrations-8635.txt.txt\n",
            "81 1 sc sc-mad\n",
            "/content/drive/MyDrive/processed_logs/cloudsim_output/log_10000s/fogSUMOCloudSim_Log__81_1_sc_sc-mad_4256_initialPositioning-4956.txt_migrations-4956.txt.txt\n",
            "81 1 sc sc-mad\n",
            "/content/drive/MyDrive/processed_logs/cloudsim_output/log_10000s/fogSUMOCloudSim_Log__81_1_sc_sc-mad_5074_initialPositioning-4951.txt_migrations-4951.txt.txt\n",
            "81 1 sc sc-mad\n",
            "/content/drive/MyDrive/processed_logs/cloudsim_output/log_10000s/fogSUMOCloudSim_Log__81_1_sc_sc-mad_5013_initialPositioning-4955.txt_migrations-4955.txt.txt\n",
            "81 1 sc sc-mad\n",
            "/content/drive/MyDrive/processed_logs/cloudsim_output/log_10000s/fogSUMOCloudSim_Log__81_1_sc_sc-mad_4966_initialPositioning-5740.txt_migrations-5740.txt.txt\n",
            "81 1 sc sc-mad\n",
            "/content/drive/MyDrive/processed_logs/cloudsim_output/log_10000s/fogSUMOCloudSim_Log__81_1_sc_sc-mad_5808_initialPositioning-5734.txt_migrations-5734.txt.txt\n",
            "81 1 sc sc-mad\n",
            "/content/drive/MyDrive/processed_logs/cloudsim_output/log_10000s/fogSUMOCloudSim_Log__81_1_sc_sc-mad_5858_initialPositioning-5749.txt_migrations-5749.txt.txt\n",
            "81 1 sc sc-mad\n",
            "/content/drive/MyDrive/processed_logs/cloudsim_output/log_10000s/fogSUMOCloudSim_Log__81_1_sc_sc-mad_6042_initialPositioning-6910.txt_migrations-6910.txt.txt\n",
            "81 1 sc sc-mad\n",
            "/content/drive/MyDrive/processed_logs/cloudsim_output/log_10000s/fogSUMOCloudSim_Log__81_1_sc_sc-mad_6187_initialPositioning-6915.txt_migrations-6915.txt.txt\n",
            "81 1 sc sc-mad\n",
            "/content/drive/MyDrive/processed_logs/cloudsim_output/log_10000s/fogSUMOCloudSim_Log__81_1_sc_sc-mad_7004_initialPositioning-6923.txt_migrations-6923.txt.txt\n",
            "81 1 sc sc-mad\n",
            "/content/drive/MyDrive/processed_logs/cloudsim_output/log_10000s/fogSUMOCloudSim_Log__81_1_sc_sc-mad_7455_initialPositioning-8600.txt_migrations-8600.txt.txt\n",
            "81 1 sc sc-mad\n",
            "/content/drive/MyDrive/processed_logs/cloudsim_output/log_10000s/fogSUMOCloudSim_Log__81_1_sc_sc-mad_7463_initialPositioning-8620.txt_migrations-8620.txt.txt\n",
            "81 1 sc sc-mad\n",
            "/content/drive/MyDrive/processed_logs/cloudsim_output/log_10000s/fogSUMOCloudSim_Log__81_1_sc_sc-mad_7486_initialPositioning-8635.txt_migrations-8635.txt.txt\n",
            "99 1 sc sc-mad\n",
            "/content/drive/MyDrive/processed_logs/cloudsim_output/log_10000s/fogSUMOCloudSim_Log__99_1_sc_sc-mad_4256_initialPositioning-4956.txt_migrations-4956.txt.txt\n",
            "99 1 sc sc-mad\n",
            "/content/drive/MyDrive/processed_logs/cloudsim_output/log_10000s/fogSUMOCloudSim_Log__99_1_sc_sc-mad_5074_initialPositioning-4951.txt_migrations-4951.txt.txt\n",
            "99 1 sc sc-mad\n",
            "/content/drive/MyDrive/processed_logs/cloudsim_output/log_10000s/fogSUMOCloudSim_Log__99_1_sc_sc-mad_5013_initialPositioning-4955.txt_migrations-4955.txt.txt\n",
            "99 1 sc sc-mad\n",
            "/content/drive/MyDrive/processed_logs/cloudsim_output/log_10000s/fogSUMOCloudSim_Log__99_1_sc_sc-mad_4966_initialPositioning-5740.txt_migrations-5740.txt.txt\n",
            "99 1 sc sc-mad\n",
            "/content/drive/MyDrive/processed_logs/cloudsim_output/log_10000s/fogSUMOCloudSim_Log__99_1_sc_sc-mad_5808_initialPositioning-5734.txt_migrations-5734.txt.txt\n",
            "99 1 sc sc-mad\n",
            "/content/drive/MyDrive/processed_logs/cloudsim_output/log_10000s/fogSUMOCloudSim_Log__99_1_sc_sc-mad_5858_initialPositioning-5749.txt_migrations-5749.txt.txt\n",
            "99 1 sc sc-mad\n",
            "/content/drive/MyDrive/processed_logs/cloudsim_output/log_10000s/fogSUMOCloudSim_Log__99_1_sc_sc-mad_6042_initialPositioning-6910.txt_migrations-6910.txt.txt\n",
            "99 1 sc sc-mad\n",
            "/content/drive/MyDrive/processed_logs/cloudsim_output/log_10000s/fogSUMOCloudSim_Log__99_1_sc_sc-mad_6187_initialPositioning-6915.txt_migrations-6915.txt.txt\n",
            "99 1 sc sc-mad\n",
            "/content/drive/MyDrive/processed_logs/cloudsim_output/log_10000s/fogSUMOCloudSim_Log__99_1_sc_sc-mad_7004_initialPositioning-6923.txt_migrations-6923.txt.txt\n",
            "99 1 sc sc-mad\n",
            "/content/drive/MyDrive/processed_logs/cloudsim_output/log_10000s/fogSUMOCloudSim_Log__99_1_sc_sc-mad_7455_initialPositioning-8600.txt_migrations-8600.txt.txt\n",
            "99 1 sc sc-mad\n",
            "/content/drive/MyDrive/processed_logs/cloudsim_output/log_10000s/fogSUMOCloudSim_Log__99_1_sc_sc-mad_7463_initialPositioning-8620.txt_migrations-8620.txt.txt\n",
            "99 1 sc sc-mad\n",
            "/content/drive/MyDrive/processed_logs/cloudsim_output/log_10000s/fogSUMOCloudSim_Log__99_1_sc_sc-mad_7486_initialPositioning-8635.txt_migrations-8635.txt.txt\n",
            "117 1 sc sc-mad\n",
            "/content/drive/MyDrive/processed_logs/cloudsim_output/log_10000s/fogSUMOCloudSim_Log__117_1_sc_sc-mad_4256_initialPositioning-4956.txt_migrations-4956.txt.txt\n",
            "117 1 sc sc-mad\n",
            "/content/drive/MyDrive/processed_logs/cloudsim_output/log_10000s/fogSUMOCloudSim_Log__117_1_sc_sc-mad_5074_initialPositioning-4951.txt_migrations-4951.txt.txt\n",
            "117 1 sc sc-mad\n",
            "/content/drive/MyDrive/processed_logs/cloudsim_output/log_10000s/fogSUMOCloudSim_Log__117_1_sc_sc-mad_5013_initialPositioning-4955.txt_migrations-4955.txt.txt\n",
            "117 1 sc sc-mad\n",
            "/content/drive/MyDrive/processed_logs/cloudsim_output/log_10000s/fogSUMOCloudSim_Log__117_1_sc_sc-mad_4966_initialPositioning-5740.txt_migrations-5740.txt.txt\n",
            "117 1 sc sc-mad\n",
            "/content/drive/MyDrive/processed_logs/cloudsim_output/log_10000s/fogSUMOCloudSim_Log__117_1_sc_sc-mad_5808_initialPositioning-5734.txt_migrations-5734.txt.txt\n",
            "117 1 sc sc-mad\n",
            "/content/drive/MyDrive/processed_logs/cloudsim_output/log_10000s/fogSUMOCloudSim_Log__117_1_sc_sc-mad_5858_initialPositioning-5749.txt_migrations-5749.txt.txt\n",
            "117 1 sc sc-mad\n",
            "/content/drive/MyDrive/processed_logs/cloudsim_output/log_10000s/fogSUMOCloudSim_Log__117_1_sc_sc-mad_6042_initialPositioning-6910.txt_migrations-6910.txt.txt\n",
            "117 1 sc sc-mad\n",
            "/content/drive/MyDrive/processed_logs/cloudsim_output/log_10000s/fogSUMOCloudSim_Log__117_1_sc_sc-mad_6187_initialPositioning-6915.txt_migrations-6915.txt.txt\n",
            "117 1 sc sc-mad\n",
            "/content/drive/MyDrive/processed_logs/cloudsim_output/log_10000s/fogSUMOCloudSim_Log__117_1_sc_sc-mad_7004_initialPositioning-6923.txt_migrations-6923.txt.txt\n",
            "117 1 sc sc-mad\n",
            "/content/drive/MyDrive/processed_logs/cloudsim_output/log_10000s/fogSUMOCloudSim_Log__117_1_sc_sc-mad_7455_initialPositioning-8600.txt_migrations-8600.txt.txt\n",
            "117 1 sc sc-mad\n",
            "/content/drive/MyDrive/processed_logs/cloudsim_output/log_10000s/fogSUMOCloudSim_Log__117_1_sc_sc-mad_7463_initialPositioning-8620.txt_migrations-8620.txt.txt\n",
            "117 1 sc sc-mad\n",
            "/content/drive/MyDrive/processed_logs/cloudsim_output/log_10000s/fogSUMOCloudSim_Log__117_1_sc_sc-mad_7486_initialPositioning-8635.txt_migrations-8635.txt.txt\n",
            "45 0 sc sc-mad\n",
            "/content/drive/MyDrive/processed_logs/cloudsim_output/log_10000s/fogSUMOCloudSim_Log__45_0_sc_sc-mad_4256_initialPositioning-4956.txt_migrations-4956.txt.txt\n",
            "45 0 sc sc-mad\n",
            "/content/drive/MyDrive/processed_logs/cloudsim_output/log_10000s/fogSUMOCloudSim_Log__45_0_sc_sc-mad_5074_initialPositioning-4951.txt_migrations-4951.txt.txt\n",
            "45 0 sc sc-mad\n",
            "/content/drive/MyDrive/processed_logs/cloudsim_output/log_10000s/fogSUMOCloudSim_Log__45_0_sc_sc-mad_5013_initialPositioning-4955.txt_migrations-4955.txt.txt\n",
            "45 0 sc sc-mad\n",
            "/content/drive/MyDrive/processed_logs/cloudsim_output/log_10000s/fogSUMOCloudSim_Log__45_0_sc_sc-mad_4966_initialPositioning-5740.txt_migrations-5740.txt.txt\n",
            "45 0 sc sc-mad\n",
            "/content/drive/MyDrive/processed_logs/cloudsim_output/log_10000s/fogSUMOCloudSim_Log__45_0_sc_sc-mad_5808_initialPositioning-5734.txt_migrations-5734.txt.txt\n",
            "45 0 sc sc-mad\n",
            "/content/drive/MyDrive/processed_logs/cloudsim_output/log_10000s/fogSUMOCloudSim_Log__45_0_sc_sc-mad_5858_initialPositioning-5749.txt_migrations-5749.txt.txt\n",
            "45 0 sc sc-mad\n",
            "/content/drive/MyDrive/processed_logs/cloudsim_output/log_10000s/fogSUMOCloudSim_Log__45_0_sc_sc-mad_6042_initialPositioning-6910.txt_migrations-6910.txt.txt\n",
            "45 0 sc sc-mad\n",
            "/content/drive/MyDrive/processed_logs/cloudsim_output/log_10000s/fogSUMOCloudSim_Log__45_0_sc_sc-mad_6187_initialPositioning-6915.txt_migrations-6915.txt.txt\n",
            "45 0 sc sc-mad\n",
            "/content/drive/MyDrive/processed_logs/cloudsim_output/log_10000s/fogSUMOCloudSim_Log__45_0_sc_sc-mad_7004_initialPositioning-6923.txt_migrations-6923.txt.txt\n",
            "45 0 sc sc-mad\n",
            "/content/drive/MyDrive/processed_logs/cloudsim_output/log_10000s/fogSUMOCloudSim_Log__45_0_sc_sc-mad_7455_initialPositioning-8600.txt_migrations-8600.txt.txt\n",
            "45 0 sc sc-mad\n",
            "/content/drive/MyDrive/processed_logs/cloudsim_output/log_10000s/fogSUMOCloudSim_Log__45_0_sc_sc-mad_7463_initialPositioning-8620.txt_migrations-8620.txt.txt\n",
            "45 0 sc sc-mad\n",
            "/content/drive/MyDrive/processed_logs/cloudsim_output/log_10000s/fogSUMOCloudSim_Log__45_0_sc_sc-mad_7486_initialPositioning-8635.txt_migrations-8635.txt.txt\n",
            "63 0 sc sc-mad\n",
            "/content/drive/MyDrive/processed_logs/cloudsim_output/log_10000s/fogSUMOCloudSim_Log__63_0_sc_sc-mad_4256_initialPositioning-4956.txt_migrations-4956.txt.txt\n",
            "63 0 sc sc-mad\n",
            "/content/drive/MyDrive/processed_logs/cloudsim_output/log_10000s/fogSUMOCloudSim_Log__63_0_sc_sc-mad_5074_initialPositioning-4951.txt_migrations-4951.txt.txt\n",
            "63 0 sc sc-mad\n",
            "/content/drive/MyDrive/processed_logs/cloudsim_output/log_10000s/fogSUMOCloudSim_Log__63_0_sc_sc-mad_5013_initialPositioning-4955.txt_migrations-4955.txt.txt\n",
            "63 0 sc sc-mad\n",
            "/content/drive/MyDrive/processed_logs/cloudsim_output/log_10000s/fogSUMOCloudSim_Log__63_0_sc_sc-mad_4966_initialPositioning-5740.txt_migrations-5740.txt.txt\n",
            "63 0 sc sc-mad\n",
            "/content/drive/MyDrive/processed_logs/cloudsim_output/log_10000s/fogSUMOCloudSim_Log__63_0_sc_sc-mad_5808_initialPositioning-5734.txt_migrations-5734.txt.txt\n",
            "63 0 sc sc-mad\n",
            "/content/drive/MyDrive/processed_logs/cloudsim_output/log_10000s/fogSUMOCloudSim_Log__63_0_sc_sc-mad_5858_initialPositioning-5749.txt_migrations-5749.txt.txt\n",
            "63 0 sc sc-mad\n",
            "/content/drive/MyDrive/processed_logs/cloudsim_output/log_10000s/fogSUMOCloudSim_Log__63_0_sc_sc-mad_6042_initialPositioning-6910.txt_migrations-6910.txt.txt\n",
            "63 0 sc sc-mad\n",
            "/content/drive/MyDrive/processed_logs/cloudsim_output/log_10000s/fogSUMOCloudSim_Log__63_0_sc_sc-mad_6187_initialPositioning-6915.txt_migrations-6915.txt.txt\n",
            "63 0 sc sc-mad\n",
            "/content/drive/MyDrive/processed_logs/cloudsim_output/log_10000s/fogSUMOCloudSim_Log__63_0_sc_sc-mad_7004_initialPositioning-6923.txt_migrations-6923.txt.txt\n",
            "63 0 sc sc-mad\n",
            "/content/drive/MyDrive/processed_logs/cloudsim_output/log_10000s/fogSUMOCloudSim_Log__63_0_sc_sc-mad_7455_initialPositioning-8600.txt_migrations-8600.txt.txt\n",
            "63 0 sc sc-mad\n",
            "/content/drive/MyDrive/processed_logs/cloudsim_output/log_10000s/fogSUMOCloudSim_Log__63_0_sc_sc-mad_7463_initialPositioning-8620.txt_migrations-8620.txt.txt\n",
            "63 0 sc sc-mad\n",
            "/content/drive/MyDrive/processed_logs/cloudsim_output/log_10000s/fogSUMOCloudSim_Log__63_0_sc_sc-mad_7486_initialPositioning-8635.txt_migrations-8635.txt.txt\n",
            "81 0 sc sc-mad\n",
            "/content/drive/MyDrive/processed_logs/cloudsim_output/log_10000s/fogSUMOCloudSim_Log__81_0_sc_sc-mad_4256_initialPositioning-4956.txt_migrations-4956.txt.txt\n",
            "81 0 sc sc-mad\n",
            "/content/drive/MyDrive/processed_logs/cloudsim_output/log_10000s/fogSUMOCloudSim_Log__81_0_sc_sc-mad_5074_initialPositioning-4951.txt_migrations-4951.txt.txt\n",
            "81 0 sc sc-mad\n",
            "/content/drive/MyDrive/processed_logs/cloudsim_output/log_10000s/fogSUMOCloudSim_Log__81_0_sc_sc-mad_5013_initialPositioning-4955.txt_migrations-4955.txt.txt\n",
            "81 0 sc sc-mad\n",
            "/content/drive/MyDrive/processed_logs/cloudsim_output/log_10000s/fogSUMOCloudSim_Log__81_0_sc_sc-mad_4966_initialPositioning-5740.txt_migrations-5740.txt.txt\n",
            "81 0 sc sc-mad\n",
            "/content/drive/MyDrive/processed_logs/cloudsim_output/log_10000s/fogSUMOCloudSim_Log__81_0_sc_sc-mad_5808_initialPositioning-5734.txt_migrations-5734.txt.txt\n",
            "81 0 sc sc-mad\n",
            "/content/drive/MyDrive/processed_logs/cloudsim_output/log_10000s/fogSUMOCloudSim_Log__81_0_sc_sc-mad_5858_initialPositioning-5749.txt_migrations-5749.txt.txt\n",
            "81 0 sc sc-mad\n",
            "/content/drive/MyDrive/processed_logs/cloudsim_output/log_10000s/fogSUMOCloudSim_Log__81_0_sc_sc-mad_6042_initialPositioning-6910.txt_migrations-6910.txt.txt\n",
            "81 0 sc sc-mad\n",
            "/content/drive/MyDrive/processed_logs/cloudsim_output/log_10000s/fogSUMOCloudSim_Log__81_0_sc_sc-mad_6187_initialPositioning-6915.txt_migrations-6915.txt.txt\n",
            "81 0 sc sc-mad\n",
            "/content/drive/MyDrive/processed_logs/cloudsim_output/log_10000s/fogSUMOCloudSim_Log__81_0_sc_sc-mad_7004_initialPositioning-6923.txt_migrations-6923.txt.txt\n",
            "81 0 sc sc-mad\n",
            "/content/drive/MyDrive/processed_logs/cloudsim_output/log_10000s/fogSUMOCloudSim_Log__81_0_sc_sc-mad_7455_initialPositioning-8600.txt_migrations-8600.txt.txt\n",
            "81 0 sc sc-mad\n",
            "/content/drive/MyDrive/processed_logs/cloudsim_output/log_10000s/fogSUMOCloudSim_Log__81_0_sc_sc-mad_7463_initialPositioning-8620.txt_migrations-8620.txt.txt\n",
            "81 0 sc sc-mad\n",
            "/content/drive/MyDrive/processed_logs/cloudsim_output/log_10000s/fogSUMOCloudSim_Log__81_0_sc_sc-mad_7486_initialPositioning-8635.txt_migrations-8635.txt.txt\n",
            "99 0 sc sc-mad\n",
            "/content/drive/MyDrive/processed_logs/cloudsim_output/log_10000s/fogSUMOCloudSim_Log__99_0_sc_sc-mad_4256_initialPositioning-4956.txt_migrations-4956.txt.txt\n",
            "99 0 sc sc-mad\n",
            "/content/drive/MyDrive/processed_logs/cloudsim_output/log_10000s/fogSUMOCloudSim_Log__99_0_sc_sc-mad_5074_initialPositioning-4951.txt_migrations-4951.txt.txt\n",
            "99 0 sc sc-mad\n",
            "/content/drive/MyDrive/processed_logs/cloudsim_output/log_10000s/fogSUMOCloudSim_Log__99_0_sc_sc-mad_5013_initialPositioning-4955.txt_migrations-4955.txt.txt\n",
            "99 0 sc sc-mad\n",
            "/content/drive/MyDrive/processed_logs/cloudsim_output/log_10000s/fogSUMOCloudSim_Log__99_0_sc_sc-mad_4966_initialPositioning-5740.txt_migrations-5740.txt.txt\n",
            "99 0 sc sc-mad\n",
            "/content/drive/MyDrive/processed_logs/cloudsim_output/log_10000s/fogSUMOCloudSim_Log__99_0_sc_sc-mad_5808_initialPositioning-5734.txt_migrations-5734.txt.txt\n",
            "99 0 sc sc-mad\n",
            "/content/drive/MyDrive/processed_logs/cloudsim_output/log_10000s/fogSUMOCloudSim_Log__99_0_sc_sc-mad_5858_initialPositioning-5749.txt_migrations-5749.txt.txt\n",
            "99 0 sc sc-mad\n",
            "/content/drive/MyDrive/processed_logs/cloudsim_output/log_10000s/fogSUMOCloudSim_Log__99_0_sc_sc-mad_6042_initialPositioning-6910.txt_migrations-6910.txt.txt\n",
            "99 0 sc sc-mad\n",
            "/content/drive/MyDrive/processed_logs/cloudsim_output/log_10000s/fogSUMOCloudSim_Log__99_0_sc_sc-mad_6187_initialPositioning-6915.txt_migrations-6915.txt.txt\n",
            "99 0 sc sc-mad\n",
            "/content/drive/MyDrive/processed_logs/cloudsim_output/log_10000s/fogSUMOCloudSim_Log__99_0_sc_sc-mad_7004_initialPositioning-6923.txt_migrations-6923.txt.txt\n",
            "99 0 sc sc-mad\n",
            "/content/drive/MyDrive/processed_logs/cloudsim_output/log_10000s/fogSUMOCloudSim_Log__99_0_sc_sc-mad_7455_initialPositioning-8600.txt_migrations-8600.txt.txt\n",
            "99 0 sc sc-mad\n",
            "/content/drive/MyDrive/processed_logs/cloudsim_output/log_10000s/fogSUMOCloudSim_Log__99_0_sc_sc-mad_7463_initialPositioning-8620.txt_migrations-8620.txt.txt\n",
            "99 0 sc sc-mad\n",
            "/content/drive/MyDrive/processed_logs/cloudsim_output/log_10000s/fogSUMOCloudSim_Log__99_0_sc_sc-mad_7486_initialPositioning-8635.txt_migrations-8635.txt.txt\n",
            "117 0 sc sc-mad\n",
            "/content/drive/MyDrive/processed_logs/cloudsim_output/log_10000s/fogSUMOCloudSim_Log__117_0_sc_sc-mad_4256_initialPositioning-4956.txt_migrations-4956.txt.txt\n",
            "117 0 sc sc-mad\n",
            "/content/drive/MyDrive/processed_logs/cloudsim_output/log_10000s/fogSUMOCloudSim_Log__117_0_sc_sc-mad_5074_initialPositioning-4951.txt_migrations-4951.txt.txt\n",
            "117 0 sc sc-mad\n",
            "/content/drive/MyDrive/processed_logs/cloudsim_output/log_10000s/fogSUMOCloudSim_Log__117_0_sc_sc-mad_5013_initialPositioning-4955.txt_migrations-4955.txt.txt\n",
            "117 0 sc sc-mad\n",
            "/content/drive/MyDrive/processed_logs/cloudsim_output/log_10000s/fogSUMOCloudSim_Log__117_0_sc_sc-mad_4966_initialPositioning-5740.txt_migrations-5740.txt.txt\n",
            "117 0 sc sc-mad\n",
            "/content/drive/MyDrive/processed_logs/cloudsim_output/log_10000s/fogSUMOCloudSim_Log__117_0_sc_sc-mad_5808_initialPositioning-5734.txt_migrations-5734.txt.txt\n",
            "117 0 sc sc-mad\n",
            "/content/drive/MyDrive/processed_logs/cloudsim_output/log_10000s/fogSUMOCloudSim_Log__117_0_sc_sc-mad_5858_initialPositioning-5749.txt_migrations-5749.txt.txt\n",
            "117 0 sc sc-mad\n",
            "/content/drive/MyDrive/processed_logs/cloudsim_output/log_10000s/fogSUMOCloudSim_Log__117_0_sc_sc-mad_6042_initialPositioning-6910.txt_migrations-6910.txt.txt\n",
            "117 0 sc sc-mad\n",
            "/content/drive/MyDrive/processed_logs/cloudsim_output/log_10000s/fogSUMOCloudSim_Log__117_0_sc_sc-mad_6187_initialPositioning-6915.txt_migrations-6915.txt.txt\n",
            "117 0 sc sc-mad\n",
            "/content/drive/MyDrive/processed_logs/cloudsim_output/log_10000s/fogSUMOCloudSim_Log__117_0_sc_sc-mad_7004_initialPositioning-6923.txt_migrations-6923.txt.txt\n",
            "117 0 sc sc-mad\n",
            "/content/drive/MyDrive/processed_logs/cloudsim_output/log_10000s/fogSUMOCloudSim_Log__117_0_sc_sc-mad_7455_initialPositioning-8600.txt_migrations-8600.txt.txt\n",
            "117 0 sc sc-mad\n",
            "/content/drive/MyDrive/processed_logs/cloudsim_output/log_10000s/fogSUMOCloudSim_Log__117_0_sc_sc-mad_7463_initialPositioning-8620.txt_migrations-8620.txt.txt\n",
            "117 0 sc sc-mad\n",
            "/content/drive/MyDrive/processed_logs/cloudsim_output/log_10000s/fogSUMOCloudSim_Log__117_0_sc_sc-mad_7486_initialPositioning-8635.txt_migrations-8635.txt.txt\n",
            "time: 27min 11s (started: 2021-08-19 06:34:48 +00:00)\n"
          ],
          "name": "stdout"
        }
      ]
    },
    {
      "cell_type": "code",
      "metadata": {
        "colab": {
          "base_uri": "https://localhost:8080/"
        },
        "id": "LjYwLgFPReI8",
        "outputId": "03d5f0fc-e003-4766-d4eb-5a108989172b"
      },
      "source": [
        "A=[1,2]\n",
        "A[0]\n",
        "A[0]+1\n"
      ],
      "execution_count": null,
      "outputs": [
        {
          "output_type": "execute_result",
          "data": {
            "text/plain": [
              "2"
            ]
          },
          "metadata": {
            "tags": []
          },
          "execution_count": 6
        },
        {
          "output_type": "stream",
          "text": [
            "time: 9.14 ms (started: 2021-07-01 10:06:33 +00:00)\n"
          ],
          "name": "stdout"
        }
      ]
    },
    {
      "cell_type": "code",
      "metadata": {
        "colab": {
          "base_uri": "https://localhost:8080/"
        },
        "id": "tY5eGZhcUuhn",
        "outputId": "b6fb78c8-c3b1-4581-f28a-b59c86eb51dd"
      },
      "source": [
        "!ls -l"
      ],
      "execution_count": null,
      "outputs": [
        {
          "output_type": "stream",
          "text": [
            "total 16\n",
            "drwx------ 6 root root 4096 Jul  1 09:03 drive\n",
            "-rw-r--r-- 1 root root   37 Jul  1 10:06 resFileAllocHops.txt\n",
            "-rw-r--r-- 1 root root   52 Jul  1 10:06 resFileMigHops.txt\n",
            "drwxr-xr-x 1 root root 4096 Jun 15 13:37 sample_data\n",
            "time: 124 ms (started: 2021-07-01 10:06:33 +00:00)\n"
          ],
          "name": "stdout"
        }
      ]
    },
    {
      "cell_type": "markdown",
      "metadata": {
        "id": "4cYVnHRLLp43"
      },
      "source": [
        "**1 Representación bidimensional de los datos de la matriz de 3 dimensiones**\n",
        "Tiempo de respuesta medio vs núúmero de vehículos\n",
        "\n"
      ]
    }
  ]
}